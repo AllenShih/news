{
 "cells": [
  {
   "cell_type": "code",
   "execution_count": 3,
   "metadata": {},
   "outputs": [
    {
     "name": "stdout",
     "output_type": "stream",
     "text": [
      "日期  5/10 \n",
      "日期  5/10 \n",
      "日期  5/10 \n",
      "日期  5/10 \n",
      "日期  5/10 \n",
      "日期  5/10 \n",
      "日期  5/10 \n",
      "日期  5/10 \n",
      "日期  5/10 \n",
      "日期  5/10 \n",
      "日期  5/10 \n",
      "日期  5/10 \n",
      "日期  5/10 \n",
      "日期  8/16 \n",
      "日期  5/04 \n",
      "日期  5/06 \n",
      "日期  5/07 \n",
      "日期  5/01 \n"
     ]
    }
   ],
   "source": [
    "import requests\n",
    "from bs4 import BeautifulSoup\n",
    "\n",
    "payload = {\n",
    "    'from': '/bbs/Gossiping/index.html',\n",
    "    'yes': 'yes'\n",
    "}\n",
    "\n",
    "headers = {\n",
    "    'user-agent':'Mozilla/5.0 (Windows NT 10.0; WOW64) AppleWebKit/537.36 (KHTML, like Gecko) Chrome/57.0.2987.133 Safari/537.36'\n",
    "}\n",
    "\n",
    "rs=requests.Session()\n",
    "\n",
    "rs.post('https://www.ptt.cc/ask/over18', data=payload, headers=headers)\n",
    "res = rs.get('https://www.ptt.cc//bbs/Gossiping/index.html', headers=headers)\n",
    "\n",
    "# print(res.text)\n",
    "\n",
    "soup=BeautifulSoup(res.text, 'html.parser')\n",
    "\n",
    "items=soup.select('.r-ent')\n",
    "\n",
    "for item in items:\n",
    "    print('日期 {} '.format(item.select('.date')[0].text))"
   ]
  },
  {
   "cell_type": "code",
   "execution_count": null,
   "metadata": {
    "collapsed": true
   },
   "outputs": [],
   "source": []
  }
 ],
 "metadata": {
  "kernelspec": {
   "display_name": "Python 3",
   "language": "python",
   "name": "python3"
  },
  "language_info": {
   "codemirror_mode": {
    "name": "ipython",
    "version": 3
   },
   "file_extension": ".py",
   "mimetype": "text/x-python",
   "name": "python",
   "nbconvert_exporter": "python",
   "pygments_lexer": "ipython3",
   "version": "3.5.2"
  }
 },
 "nbformat": 4,
 "nbformat_minor": 2
}

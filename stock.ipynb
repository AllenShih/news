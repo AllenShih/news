{
 "cells": [
  {
   "cell_type": "code",
   "execution_count": 29,
   "metadata": {},
   "outputs": [
    {
     "name": "stdout",
     "output_type": "stream",
     "text": [
      "<table align=\"center\" border=\"1\" style=\"width:774px;\"> <thead> <tr><td colspan=\"6\">106年 04月 鴻海             個股日本益比、殖利率及股價淨值比(以個股月查詢)</td></tr> <tr> <td>日期</td> <td>殖利率(%)</td> <td>股利年度</td> <td>本益比</td> <td>股價淨值比</td> <td>財報年/季</td> </tr> </thead> <tbody> <tr> <td style=\"text-align:center;\">106/04/05</td> <td style=\"text-align:center;\">5.10</td> <td style=\"text-align:center;\"></td> <td style=\"text-align:center;\">11.42</td> <td style=\"text-align:center;\">1.57</td> <td style=\"text-align:center;\"></td> </tr> <tr> <td style=\"text-align:center;\">106/04/06</td> <td style=\"text-align:center;\">5.14</td> <td style=\"text-align:center;\"></td> <td style=\"text-align:center;\">11.34</td> <td style=\"text-align:center;\">1.56</td> <td style=\"text-align:center;\"></td> </tr> <tr> <td style=\"text-align:center;\">106/04/07</td> <td style=\"text-align:center;\">5.20</td> <td style=\"text-align:center;\"></td> <td style=\"text-align:center;\">11.20</td> <td style=\"text-align:center;\">1.54</td> <td style=\"text-align:center;\"></td> </tr> <tr> <td style=\"text-align:center;\">106/04/10</td> <td style=\"text-align:center;\">5.18</td> <td style=\"text-align:center;\"></td> <td style=\"text-align:center;\">11.25</td> <td style=\"text-align:center;\">1.55</td> <td style=\"text-align:center;\"></td> </tr> <tr> <td style=\"text-align:center;\">106/04/11</td> <td style=\"text-align:center;\">5.16</td> <td style=\"text-align:center;\"></td> <td style=\"text-align:center;\">11.29</td> <td style=\"text-align:center;\">1.56</td> <td style=\"text-align:center;\"></td> </tr> <tr> <td style=\"text-align:center;\">106/04/12</td> <td style=\"text-align:center;\">5.14</td> <td style=\"text-align:center;\">104</td> <td style=\"text-align:center;\">11.34</td> <td style=\"text-align:center;\">1.56</td> <td style=\"text-align:center;\">105/4</td> </tr> <tr> <td style=\"text-align:center;\">106/04/13</td> <td style=\"text-align:center;\">5.08</td> <td style=\"text-align:center;\">104</td> <td style=\"text-align:center;\">11.48</td> <td style=\"text-align:center;\">1.58</td> <td style=\"text-align:center;\">105/4</td> </tr> <tr> <td style=\"text-align:center;\">106/04/14</td> <td style=\"text-align:center;\">5.17</td> <td style=\"text-align:center;\">104</td> <td style=\"text-align:center;\">11.27</td> <td style=\"text-align:center;\">1.55</td> <td style=\"text-align:center;\">105/4</td> </tr> <tr> <td style=\"text-align:center;\">106/04/17</td> <td style=\"text-align:center;\">5.14</td> <td style=\"text-align:center;\">104</td> <td style=\"text-align:center;\">11.34</td> <td style=\"text-align:center;\">1.56</td> <td style=\"text-align:center;\">105/4</td> </tr> <tr> <td style=\"text-align:center;\">106/04/18</td> <td style=\"text-align:center;\">5.15</td> <td style=\"text-align:center;\">104</td> <td style=\"text-align:center;\">11.31</td> <td style=\"text-align:center;\">1.56</td> <td style=\"text-align:center;\">105/4</td> </tr> <tr> <td style=\"text-align:center;\">106/04/19</td> <td style=\"text-align:center;\">5.22</td> <td style=\"text-align:center;\">104</td> <td style=\"text-align:center;\">11.17</td> <td style=\"text-align:center;\">1.54</td> <td style=\"text-align:center;\">105/4</td> </tr> <tr> <td style=\"text-align:center;\">106/04/20</td> <td style=\"text-align:center;\">5.21</td> <td style=\"text-align:center;\">104</td> <td style=\"text-align:center;\">11.19</td> <td style=\"text-align:center;\">1.54</td> <td style=\"text-align:center;\">105/4</td> </tr> <tr> <td style=\"text-align:center;\">106/04/21</td> <td style=\"text-align:center;\">5.18</td> <td style=\"text-align:center;\">104</td> <td style=\"text-align:center;\">11.25</td> <td style=\"text-align:center;\">1.55</td> <td style=\"text-align:center;\">105/4</td> </tr> <tr> <td style=\"text-align:center;\">106/04/24</td> <td style=\"text-align:center;\">5.15</td> <td style=\"text-align:center;\">104</td> <td style=\"text-align:center;\">11.31</td> <td style=\"text-align:center;\">1.56</td> <td style=\"text-align:center;\">105/4</td> </tr> <tr> <td style=\"text-align:center;\">106/04/25</td> <td style=\"text-align:center;\">5.11</td> <td style=\"text-align:center;\">104</td> <td style=\"text-align:center;\">11.41</td> <td style=\"text-align:center;\">1.57</td> <td style=\"text-align:center;\">105/4</td> </tr> <tr> <td style=\"text-align:center;\">106/04/26</td> <td style=\"text-align:center;\">5.09</td> <td style=\"text-align:center;\">104</td> <td style=\"text-align:center;\">11.45</td> <td style=\"text-align:center;\">1.58</td> <td style=\"text-align:center;\">105/4</td> </tr> <tr> <td style=\"text-align:center;\">106/04/27</td> <td style=\"text-align:center;\">5.09</td> <td style=\"text-align:center;\">104</td> <td style=\"text-align:center;\">11.46</td> <td style=\"text-align:center;\">1.58</td> <td style=\"text-align:center;\">105/4</td> </tr> <tr> <td style=\"text-align:center;\">106/04/28</td> <td style=\"text-align:center;\">5.06</td> <td style=\"text-align:center;\">104</td> <td style=\"text-align:center;\">11.52</td> <td style=\"text-align:center;\">1.59</td> <td style=\"text-align:center;\">105/4</td> </tr> </tbody></table>\n"
     ]
    },
    {
     "ename": "UnicodeEncodeError",
     "evalue": "'cp950' codec can't encode character '\\xa0' in position 87: illegal multibyte sequence",
     "output_type": "error",
     "traceback": [
      "\u001b[1;31m---------------------------------------------------------------------------\u001b[0m",
      "\u001b[1;31mUnicodeEncodeError\u001b[0m                        Traceback (most recent call last)",
      "\u001b[1;32m<ipython-input-29-46f8937020ef>\u001b[0m in \u001b[0;36m<module>\u001b[1;34m()\u001b[0m\n\u001b[0;32m     33\u001b[0m         \u001b[0mf\u001b[0m\u001b[1;33m.\u001b[0m\u001b[0mwrite\u001b[0m\u001b[1;33m(\u001b[0m\u001b[0mstr\u001b[0m\u001b[1;33m(\u001b[0m\u001b[0mcontent\u001b[0m\u001b[1;33m)\u001b[0m\u001b[1;33m)\u001b[0m\u001b[1;33m\u001b[0m\u001b[0m\n\u001b[0;32m     34\u001b[0m \u001b[1;33m\u001b[0m\u001b[0m\n\u001b[1;32m---> 35\u001b[1;33m \u001b[0mparseTSE\u001b[0m\u001b[1;33m(\u001b[0m\u001b[1;36m2017\u001b[0m\u001b[1;33m,\u001b[0m\u001b[1;36m4\u001b[0m\u001b[1;33m,\u001b[0m\u001b[1;36m2317\u001b[0m\u001b[1;33m)\u001b[0m\u001b[1;33m\u001b[0m\u001b[0m\n\u001b[0m",
      "\u001b[1;32m<ipython-input-29-46f8937020ef>\u001b[0m in \u001b[0;36mparseTSE\u001b[1;34m(year, month, no)\u001b[0m\n\u001b[0;32m     31\u001b[0m \u001b[1;33m\u001b[0m\u001b[0m\n\u001b[0;32m     32\u001b[0m     \u001b[1;32mwith\u001b[0m \u001b[0mopen\u001b[0m\u001b[1;33m(\u001b[0m\u001b[1;34m'./'\u001b[0m\u001b[1;33m+\u001b[0m \u001b[0myear\u001b[0m\u001b[1;33m+\u001b[0m \u001b[0mmonth\u001b[0m\u001b[1;33m+\u001b[0m \u001b[1;34m'_tse_'\u001b[0m\u001b[1;33m+\u001b[0m \u001b[0mno\u001b[0m \u001b[1;33m+\u001b[0m\u001b[1;34m'.html'\u001b[0m\u001b[1;33m,\u001b[0m \u001b[1;34m'w'\u001b[0m\u001b[1;33m)\u001b[0m \u001b[1;32mas\u001b[0m \u001b[0mf\u001b[0m\u001b[1;33m:\u001b[0m\u001b[1;33m\u001b[0m\u001b[0m\n\u001b[1;32m---> 33\u001b[1;33m         \u001b[0mf\u001b[0m\u001b[1;33m.\u001b[0m\u001b[0mwrite\u001b[0m\u001b[1;33m(\u001b[0m\u001b[0mstr\u001b[0m\u001b[1;33m(\u001b[0m\u001b[0mcontent\u001b[0m\u001b[1;33m)\u001b[0m\u001b[1;33m)\u001b[0m\u001b[1;33m\u001b[0m\u001b[0m\n\u001b[0m\u001b[0;32m     34\u001b[0m \u001b[1;33m\u001b[0m\u001b[0m\n\u001b[0;32m     35\u001b[0m \u001b[0mparseTSE\u001b[0m\u001b[1;33m(\u001b[0m\u001b[1;36m2017\u001b[0m\u001b[1;33m,\u001b[0m\u001b[1;36m4\u001b[0m\u001b[1;33m,\u001b[0m\u001b[1;36m2317\u001b[0m\u001b[1;33m)\u001b[0m\u001b[1;33m\u001b[0m\u001b[0m\n",
      "\u001b[1;31mUnicodeEncodeError\u001b[0m: 'cp950' codec can't encode character '\\xa0' in position 87: illegal multibyte sequence"
     ]
    }
   ],
   "source": [
    "import requests\n",
    "from bs4 import BeautifulSoup\n",
    "import pandas as pd\n",
    "\n",
    "url='http://www.tse.com.tw/ch/trading/exchange/BWIBBU/BWIBBU.php'\n",
    "\n",
    "def parseTSE(year, month ,no):\n",
    "    year=str(year)\n",
    "    month=str(month)\n",
    "    no=str(no)\n",
    "    \n",
    "    payload = {\n",
    "        'query_year': year,\n",
    "        'query_month': month,\n",
    "        'CO_ID': 2317,\n",
    "        'query-button':'%E6%9F%A5%E8%A9%A2'\n",
    "    }\n",
    "    \n",
    "    headers = {\n",
    "        'User-Agent': 'Mozilla/5.0 (Windows NT 10.0; WOW64) AppleWebKit/537.36 (KHTML, like Gecko) Chrome/57.0.2987.133 Safari/537.36'\n",
    "    }\n",
    "    \n",
    "    res = requests.post(url, headers=headers, data=payload)\n",
    "#     data = res.text.encode('latin1').decode('big5')\n",
    "    # 如果編碼是big5，將會是亂碼，則需先將解碼成latin1再轉成big5\n",
    "    soup = BeautifulSoup(res.text, 'lxml')\n",
    "    \n",
    "    content = soup.find('table')\n",
    "    \n",
    "    print(str(content))\n",
    "    \n",
    "    with open('./'+ year+ month+ '_tse_'+ no +'.html', 'w') as f:\n",
    "        f.write(str(content))\n",
    "    \n",
    "parseTSE(2017,4,2317)"
   ]
  },
  {
   "cell_type": "code",
   "execution_count": null,
   "metadata": {
    "collapsed": true
   },
   "outputs": [],
   "source": []
  }
 ],
 "metadata": {
  "kernelspec": {
   "display_name": "Python 3",
   "language": "python",
   "name": "python3"
  },
  "language_info": {
   "codemirror_mode": {
    "name": "ipython",
    "version": 3
   },
   "file_extension": ".py",
   "mimetype": "text/x-python",
   "name": "python",
   "nbconvert_exporter": "python",
   "pygments_lexer": "ipython3",
   "version": "3.5.2"
  }
 },
 "nbformat": 4,
 "nbformat_minor": 2
}

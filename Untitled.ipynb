{
 "cells": [
  {
   "cell_type": "code",
   "execution_count": 1,
   "metadata": {
    "collapsed": true
   },
   "outputs": [],
   "source": [
    "import appledaily\n",
    "import requests\n",
    "from bs4 import BeautifulSoup\n",
    "import csv\n",
    "import pandas"
   ]
  },
  {
   "cell_type": "code",
   "execution_count": 19,
   "metadata": {},
   "outputs": [
    {
     "name": "stdout",
     "output_type": "stream",
     "text": [
      "1\n",
      "2017-05-04 16:45卡哇伊！ 自製卡通蛋糕 2日本媽媽拚輸贏\n"
     ]
    }
   ],
   "source": [
    "def craw():\n",
    "        cnt=0\n",
    "        l=[]\n",
    "        url=\"http://news.ltn.com.tw/list/BreakingNews?page=\"\n",
    "        while cnt<1:\n",
    "            cnt+=1\n",
    "            print(cnt)\n",
    "            r=requests.get(url+str(cnt))\n",
    "            c=r.content\n",
    "            soup=BeautifulSoup(c,\"lxml\")\n",
    "\n",
    "            all=soup.find_all(\"li\",{\"class\":\"lipic\"})\n",
    "            print(all[0].text)\n",
    "#             for item in all:\n",
    "               \n",
    "            \n",
    "#             hr=\"http://www.appledaily.com.tw/\"\n",
    "\n",
    "#             for article in all:\n",
    "#                 date_all=article.find_all(\"h1\",{\"class\":\"dddd\"})\n",
    "#                 news_all=article.find_all(\"ul\",{\"class\":\"rtddd slvl\"})\n",
    "#                 for i in range(len(news_all)):\n",
    "#                     date=date_all[i].text\n",
    "#                     life_news=news_all[i].find_all(\"li\",{\"class\":\"rtddt life\"})+ \\\n",
    "#                     news_all[i].find_all(\"li\",{\"class\":\"rtddt life even\"})+news_all[i].find_all(\"li\",{\"class\":\"rtddt life even hsv\"})\n",
    "#                     for lines in life_news:\n",
    "#                         d={}\n",
    "#                         href_back=lines.find('a').get('href')\n",
    "#                         href=hr+href_back\n",
    "#                         time=lines.find_next('time').text\n",
    "#                         category=lines.find_next('h2').text\n",
    "#                         title=lines.find_next('h1').text\n",
    "\n",
    "#                         word_cnt=0\n",
    "#                         for words in self.key_words:\n",
    "#                             if words in title:\n",
    "#                                 word_cnt+=1\n",
    "#                         if word_cnt>0:\n",
    "#                             d[\"新聞來源\"]=\"蘋果日報\"\n",
    "#                             d[\"Time\"]=date+\" \"+time\n",
    "#                             d[\"Category\"]=category\n",
    "#                             d[\"Title\"]=title\n",
    "#                             d[\"URL\"]=href\n",
    "#                             l.append(d)\n",
    "\n",
    "craw()"
   ]
  },
  {
   "cell_type": "code",
   "execution_count": null,
   "metadata": {
    "collapsed": true
   },
   "outputs": [],
   "source": []
  }
 ],
 "metadata": {
  "kernelspec": {
   "display_name": "Python 3",
   "language": "python",
   "name": "python3"
  },
  "language_info": {
   "codemirror_mode": {
    "name": "ipython",
    "version": 3
   },
   "file_extension": ".py",
   "mimetype": "text/x-python",
   "name": "python",
   "nbconvert_exporter": "python",
   "pygments_lexer": "ipython3",
   "version": "3.5.2"
  }
 },
 "nbformat": 4,
 "nbformat_minor": 2
}

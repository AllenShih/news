{
 "cells": [
  {
   "cell_type": "code",
   "execution_count": 1,
   "metadata": {
    "collapsed": true
   },
   "outputs": [],
   "source": [
    "import requests\n",
    "from bs4 import BeautifulSoup"
   ]
  },
  {
   "cell_type": "code",
   "execution_count": 4,
   "metadata": {},
   "outputs": [],
   "source": [
    "r=requests.get(\"http://www.appledaily.com.tw/realtimenews/section/new/\")\n",
    "c=r.content\n",
    "soup=BeautifulSoup(c,\"lxml\")"
   ]
  },
  {
   "cell_type": "code",
   "execution_count": 6,
   "metadata": {},
   "outputs": [],
   "source": [
    "all=soup.find_all(\"div\",{\"class\":\"abdominis rlby clearmen\"})"
   ]
  },
  {
   "cell_type": "code",
   "execution_count": 25,
   "metadata": {},
   "outputs": [
    {
     "name": "stdout",
     "output_type": "stream",
     "text": [
      "\n",
      "\n",
      "12:45\n",
      "生活\n",
      "今高溫回升5℃轉晴　周末北部高溫上探31...(1608)\n",
      "\n",
      "\n",
      "http://www.appledaily.com.tw//realtimenews/article/life/20170414/1097570/今高溫回升5℃轉晴　周末北部高溫上探31℃\n",
      "\n",
      "\n",
      "12:40\n",
      "生活\n",
      "德安航空飛機撞牆今吊掛作業　蘭嶼機場封閉...(0)\n",
      "\n",
      "\n",
      "http://www.appledaily.com.tw//realtimenews/article/life/20170414/1097745/德安航空飛機撞牆今吊掛作業　蘭嶼機場封閉至18時\n",
      "\n",
      "\n",
      "12:32\n",
      "生活\n",
      "中研院尋獲400年前辭典　這個髒話現在仍...(59)\n",
      "\n",
      "\n",
      "http://www.appledaily.com.tw//realtimenews/article/life/20170414/1097740/中研院尋獲400年前辭典　這個髒話現在仍在使用\n",
      "\n",
      "\n",
      "12:30\n",
      "生活\n",
      "住榮總沒錢繳費簽本票才出院　弱勢病患「怕...(269)\n",
      "\n",
      "\n",
      "http://www.appledaily.com.tw//realtimenews/article/life/20170414/1097738/住榮總沒錢繳費簽本票才出院　弱勢病患「怕黑道找上門」\n",
      "\n",
      "\n",
      "12:23\n",
      "生活\n",
      "酒井法子、王祖賢閃一邊　擋泥板換成她超威(4804)\n",
      "\n",
      "\n",
      "http://www.appledaily.com.tw//realtimenews/article/life/20170414/1097715/酒井法子、王祖賢閃一邊　擋泥板換成她超威\n",
      "\n",
      "\n",
      "12:20\n",
      "生活\n",
      "改善汐止交通　吳秉叡：樟樹灣站納基隆輕軌(401)\n",
      "\n",
      "\n",
      "http://www.appledaily.com.tw//realtimenews/article/life/20170414/1097726/改善汐止交通　吳秉叡：樟樹灣站納基隆輕軌\n"
     ]
    }
   ],
   "source": [
    "hr=\"http://www.appledaily.com.tw/\"\n",
    "for article in all:\n",
    "    news=article.find_all(\"li\",{\"class\":\"rtddt life\"} or \"li\",{\"class\":\"rtddt life even\"})\n",
    "    for lines in news:\n",
    "        print(lines.text)\n",
    "        links=lines.find_all(\"a\")\n",
    "        for href in links:\n",
    "            href=href.get('href')\n",
    "            Entire_link=hr+href\n",
    "            print(Entire_link)"
   ]
  },
  {
   "cell_type": "code",
   "execution_count": null,
   "metadata": {
    "collapsed": true
   },
   "outputs": [],
   "source": []
  },
  {
   "cell_type": "code",
   "execution_count": null,
   "metadata": {
    "collapsed": true
   },
   "outputs": [],
   "source": []
  }
 ],
 "metadata": {
  "kernelspec": {
   "display_name": "Python 3",
   "language": "python",
   "name": "python3"
  },
  "language_info": {
   "codemirror_mode": {
    "name": "ipython",
    "version": 3
   },
   "file_extension": ".py",
   "mimetype": "text/x-python",
   "name": "python",
   "nbconvert_exporter": "python",
   "pygments_lexer": "ipython3",
   "version": "3.5.2"
  }
 },
 "nbformat": 4,
 "nbformat_minor": 2
}

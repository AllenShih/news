{
 "cells": [
  {
   "cell_type": "code",
   "execution_count": 11,
   "metadata": {
    "collapsed": true
   },
   "outputs": [],
   "source": [
    "import appledaily\n",
    "import requests\n",
    "from bs4 import BeautifulSoup\n",
    "import csv\n",
    "import pandas"
   ]
  },
  {
   "cell_type": "code",
   "execution_count": 14,
   "metadata": {},
   "outputs": [
    {
     "name": "stdout",
     "output_type": "stream",
     "text": [
      "1\n",
      "香港到底哪裡人 原來還有這個族\n",
      "鬥牛是西班牙傳統？ 千人示威：鬥牛是暴力\n",
      "NBA／貝頓與孩子練投 有趣影片引關注\n",
      "男大生扮女裝闖校園 柯P：社會上就是有怪人\n",
      "帶著腦瘤用心過生活 5千位孩子叫她「媽」\n",
      "台中捷運18列電聯車 擬年底全數交車\n",
      "看好電動車趨勢 台中新建大樓備充電站\n",
      "法國第一夫人遭漫畫歧視 評論家痛批觀念老掉牙\n",
      "oBike進駐雙北 柯P：世界潮流擋不住\n",
      "母親節 這16首古詩詞被陸網友推爆\n",
      "憂上班日中勒索病毒 政院下令各部會今天要電腦更新\n",
      "馬德里女網／哈蕾普連霸成功 吃巧克力慶祝\n",
      "折磨動物非文化 西班牙人上街反對鬥牛\n",
      "紐約這屋頂農場好威 種菜、教學、賺錢還能拍電影\n",
      "北韓飛彈有進展 美專家：外交斡旋更難\n",
      "五月感恩月 慈濟浴佛大典3千餘人誠心祝禱\n",
      "護樹團體痛批背信 柯P：既有政治基礎有時候很為難\n",
      "國民黨主席之爭選情升溫 6位候選人訴求團結\n",
      "抗議北市府要讓遠雄移樹 柯P：每天都有奇怪的事\n",
      "亞投行批准7個新成員 總數達77個\n",
      "虧損斷頭賣屋應如何報稅？ 專家說…\n",
      "莽男不想要分手 撕爛檳榔西施小三上衣留人\n",
      "NBA／布萊恩帶女兒看球 學習比賽精神\n",
      "分手六年...約前女友送生日禮物 卻送她一桶汽油\n",
      "北韓又試射飛彈 華郵：美可能促中懲罰北韓挑釁\n",
      "感情不睦或家暴夫妻 分開報稅免尷尬\n",
      "藍綠戰前瞻 6委員會恐再鬧空城\n",
      "台中花博路跑 3萬人母親節健康開跑\n",
      "前瞻最後一戰 藍委要演「行動劇」抗議\n",
      "港鐵縱火案嫌犯 今晨傷重不治\n",
      "MLB／生涯僅1轟 金鶯捕手敲雙響砲送母親\n",
      "香港地鐵縱火案 60歲嫌犯宣告不治\n",
      "小人物大啟示／ 守護血藤2年多 大坑2人組終於看到「幸福之花」\n",
      "蘋果電腦用戶小心 這2隻病毒要偷你個資\n",
      "鹿港龍王祭獨步全台 慶端陽最富傳統味 \n",
      "勒索電腦病毒攻擊 證交所：市場不會受影響\n",
      "勒索電腦病毒攻擊 證交所：市場不會受影響\n",
      "四川女挖百公斤丹麥生蠔 辣炒吃光光\n",
      "勒索軟體肆虐 初估數十國7萬5千受害者\n",
      "加拿大總理3歲兒吸睛 陪爸爸上班萌樣成網紅\n",
      "美國堪薩斯浴佛法會 孩童為媽媽祈福祝禱\n",
      "水電危機居安思危 這些小確幸可能沒了\n",
      "MLB／逆轉松鼠未發威 印地安人1：4輸雙城\n",
      "WHA事件後 學者：兩岸社會的對撞會產生螺旋式的上升\n",
      "國中會考20日登場 考生減3萬創新低\n",
      "蘋果也愛打搏擊 這技術可幫大忙\n",
      "葉匡時肯定賀陳旦 盼能「勿忘初心」\n",
      "水情差加一例一休 洗車業憂營運陷困境\n",
      "勒索病毒肆虐 陸證監會要求券商自查\n",
      "吳秉叡炒麵獻母親 秉媽：吃麵會胖喔\n",
      "NBA／布朗：波波維奇現在做的比祈禱還多\n",
      "NBA／主客場開戰沒差 詹姆斯：打了就對\n",
      "勒索軟體襲全球 資安業者教你這樣做\n",
      "「一帶一路」論壇國宴吃什麼？ 名廚告訴你\n",
      "英國青年網路專家 阻止勒索病毒蔓延\n",
      "習近平宣布 增資絲路基金4500億元\n",
      "勒索病毒肆虐 證券交易系統不受影響\n",
      "企業今年加薪勝去年 有10多家\n",
      "「信不信斷你雙腿」 這句話嗆警結果很淒慘\n",
      "最浪漫vs.最奢華 全台5款摩天輪 誰是最佳求婚地？\n",
      "2\n"
     ]
    },
    {
     "ename": "AttributeError",
     "evalue": "'NoneType' object has no attribute 'find_all'",
     "output_type": "error",
     "traceback": [
      "\u001b[1;31m---------------------------------------------------------------------------\u001b[0m",
      "\u001b[1;31mAttributeError\u001b[0m                            Traceback (most recent call last)",
      "\u001b[1;32m<ipython-input-14-99b3144bb7e0>\u001b[0m in \u001b[0;36m<module>\u001b[1;34m()\u001b[0m\n\u001b[0;32m     23\u001b[0m             \u001b[0mtime\u001b[0m \u001b[1;33m=\u001b[0m \u001b[0mdetail\u001b[0m\u001b[1;33m.\u001b[0m\u001b[0mfind\u001b[0m\u001b[1;33m(\u001b[0m\u001b[1;34m\"div\"\u001b[0m\u001b[1;33m,\u001b[0m\u001b[1;33m{\u001b[0m\u001b[1;34m\"class\"\u001b[0m\u001b[1;33m:\u001b[0m\u001b[1;34m\"dt\"\u001b[0m\u001b[1;33m}\u001b[0m\u001b[1;33m)\u001b[0m\u001b[1;33m.\u001b[0m\u001b[0mtext\u001b[0m\u001b[1;33m\u001b[0m\u001b[0m\n\u001b[0;32m     24\u001b[0m             \u001b[0mprint\u001b[0m\u001b[1;33m(\u001b[0m\u001b[0mtitle\u001b[0m\u001b[1;33m)\u001b[0m\u001b[1;33m\u001b[0m\u001b[0m\n\u001b[1;32m---> 25\u001b[1;33m \u001b[0mcraw\u001b[0m\u001b[1;33m(\u001b[0m\u001b[1;33m)\u001b[0m\u001b[1;33m\u001b[0m\u001b[0m\n\u001b[0m",
      "\u001b[1;32m<ipython-input-14-99b3144bb7e0>\u001b[0m in \u001b[0;36mcraw\u001b[1;34m()\u001b[0m\n\u001b[0;32m     13\u001b[0m \u001b[1;33m\u001b[0m\u001b[0m\n\u001b[0;32m     14\u001b[0m         \u001b[0mall\u001b[0m\u001b[1;33m=\u001b[0m\u001b[0msoup\u001b[0m\u001b[1;33m.\u001b[0m\u001b[0mfind\u001b[0m\u001b[1;33m(\u001b[0m\u001b[1;34m\"div\"\u001b[0m\u001b[1;33m,\u001b[0m\u001b[1;33m{\u001b[0m\u001b[1;34m\"id\"\u001b[0m\u001b[1;33m:\u001b[0m\u001b[1;34m\"breaknews_body\"\u001b[0m\u001b[1;33m}\u001b[0m\u001b[1;33m)\u001b[0m\u001b[1;33m\u001b[0m\u001b[0m\n\u001b[1;32m---> 15\u001b[1;33m         \u001b[0mall_article\u001b[0m\u001b[1;33m=\u001b[0m\u001b[0mall\u001b[0m\u001b[1;33m.\u001b[0m\u001b[0mfind_all\u001b[0m\u001b[1;33m(\u001b[0m\u001b[1;34m\"dt\"\u001b[0m\u001b[1;33m)\u001b[0m\u001b[1;33m\u001b[0m\u001b[0m\n\u001b[0m\u001b[0;32m     16\u001b[0m \u001b[1;33m\u001b[0m\u001b[0m\n\u001b[0;32m     17\u001b[0m         \u001b[1;32mfor\u001b[0m \u001b[0mdetail\u001b[0m \u001b[1;32min\u001b[0m \u001b[0mall_article\u001b[0m\u001b[1;33m:\u001b[0m\u001b[1;33m\u001b[0m\u001b[0m\n",
      "\u001b[1;31mAttributeError\u001b[0m: 'NoneType' object has no attribute 'find_all'"
     ]
    }
   ],
   "source": [
    "def craw():\n",
    "    cnt=0\n",
    "    l=[]\n",
    "    url=\"https://udn.com/news/breaknews/1/0/\"\n",
    "\n",
    "    base_url=\"https://udn.com\"\n",
    "    while cnt<2:    \n",
    "        cnt+=1\n",
    "        print(cnt)\n",
    "#         r=requests.get(url+str(cnt)+\"#breaknews\")\n",
    "        r=requests.get(\"https://udn.com/news/breaknews/1/0/2#breaknews\")\n",
    "        c=r.content\n",
    "        soup=BeautifulSoup(c,\"lxml\")\n",
    "\n",
    "        all=soup.find(\"div\",{\"id\":\"breaknews_body\"})\n",
    "        all_article=all.find_all(\"dt\")\n",
    "\n",
    "        for detail in all_article:\n",
    "            d={}\n",
    "            category = detail.find(\"a\",{\"class\":\"cate\"}).text\n",
    "            h2 = detail.find(\"h2\")\n",
    "            title = h2.text\n",
    "            url = base_url+h2.find_next(\"a\").get(\"href\")\n",
    "            time = detail.find(\"div\",{\"class\":\"dt\"}).text\n",
    "            print(title)\n",
    "craw()"
   ]
  },
  {
   "cell_type": "code",
   "execution_count": null,
   "metadata": {
    "collapsed": true
   },
   "outputs": [],
   "source": []
  }
 ],
 "metadata": {
  "kernelspec": {
   "display_name": "Python 3",
   "language": "python",
   "name": "python3"
  },
  "language_info": {
   "codemirror_mode": {
    "name": "ipython",
    "version": 3
   },
   "file_extension": ".py",
   "mimetype": "text/x-python",
   "name": "python",
   "nbconvert_exporter": "python",
   "pygments_lexer": "ipython3",
   "version": "3.5.2"
  }
 },
 "nbformat": 4,
 "nbformat_minor": 2
}
